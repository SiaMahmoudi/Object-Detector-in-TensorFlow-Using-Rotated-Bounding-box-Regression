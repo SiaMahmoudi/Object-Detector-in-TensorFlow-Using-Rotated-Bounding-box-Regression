{
  "cells": [
    {
      "cell_type": "markdown",
      "metadata": {
        "id": "view-in-github",
        "colab_type": "text"
      },
      "source": [
        "<a href=\"https://colab.research.google.com/github/SiaMahmoudi/Object-Detector-in-TensorFlow-Using-Rotated-Bounding-box-Regression/blob/main/Rotated_Bounding_box_Regression.ipynb\" target=\"_parent\"><img src=\"https://colab.research.google.com/assets/colab-badge.svg\" alt=\"Open In Colab\"/></a>"
      ]
    },
    {
      "cell_type": "code",
      "execution_count": 1,
      "metadata": {
        "id": "aDxTZ-P8VIW0"
      },
      "outputs": [],
      "source": [
        "import os\n",
        "import glob\n",
        "import pandas as pd\n",
        "import xml.etree.ElementTree as ET\n",
        "import numpy as np\n",
        "import cv2\n",
        "import math as m\n",
        "from math import pi, cos, sin"
      ]
    },
    {
      "cell_type": "code",
      "execution_count": 2,
      "metadata": {
        "id": "o-PFpl0iaiy6"
      },
      "outputs": [],
      "source": [
        "SKIP_NEGATIVES = True\n",
        "NEGATIVE_CLASS = \"No-Stair\""
      ]
    },
    {
      "cell_type": "code",
      "execution_count": 3,
      "metadata": {
        "id": "HskW87uvUO4Z"
      },
      "outputs": [],
      "source": [
        "from tensorflow import keras\n"
      ]
    },
    {
      "cell_type": "code",
      "execution_count": 4,
      "metadata": {
        "id": "DZCBoOocagIJ"
      },
      "outputs": [],
      "source": [
        "def xml_to_csv(path, skipNegatives):\n",
        "    xml_list = []\n",
        "    for xml_file in glob.glob(path + '/*.xml'):\n",
        "        tree = ET.parse(xml_file)\n",
        "        root = tree.getroot()\n",
        "        if root.find('object'):\n",
        "            for member in root.findall('object'):\n",
        "                bbx = member.find('robndbox')                \n",
        "                cx = round(float(bbx.find('cx').text))\n",
        "                cy = round(float(bbx.find('cy').text))\n",
        "                w = round(float(bbx.find('w').text))\n",
        "                h = round(float(bbx.find('h').text))\n",
        "                angel = float(bbx.find('angle').text)\n",
        "                label = member.find('name').text\n",
        "                value = (root.find('filename').text,\n",
        "                     int(root.find('size')[0].text),\n",
        "                     int(root.find('size')[1].text),\n",
        "                     label,\n",
        "                     cx,\n",
        "                     cy,\n",
        "                     w,\n",
        "                     h,\n",
        "                     m.cos(angel),\n",
        "                     m.sin(angel)\n",
        "                     )\n",
        "                print(value)\n",
        "                xml_list.append(value)\n",
        "        elif not skipNegatives:\n",
        "            value = (root.find('filename').text,\n",
        "                        int(root.find('size')[0].text),\n",
        "                        int(root.find('size')[1].text),\n",
        "                        NEGATIVE_CLASS,\n",
        "                        0,\n",
        "                        0,\n",
        "                        0,\n",
        "                        0,\n",
        "                        0,\n",
        "                        0\n",
        "                        )\n",
        "            print(value)\n",
        "            xml_list.append(value)\n",
        "\n",
        "    column_name = ['filename', 'width', 'height',\n",
        "                   'class', 'cx', 'cy', 'w', 'h', 'cos', 'sin']\n",
        "    xml_df = pd.DataFrame(xml_list, columns=column_name)\n",
        "    return xml_df"
      ]
    },
    {
      "cell_type": "code",
      "execution_count": 5,
      "metadata": {
        "id": "tH74JdVAazzu"
      },
      "outputs": [],
      "source": [
        "def main():\n",
        "    datasets = ['Training', 'Validation']\n",
        "    \n",
        "    for ds in datasets:\n",
        "        image_path = os.path.join(paths['Images'], ds)\n",
        "        xml_df = xml_to_csv(image_path, SKIP_NEGATIVES)\n",
        "        xml_df.to_csv('Data/{}_data.csv'.format(ds), index=None)\n",
        "        print('Successfully converted xml to csv.')\n",
        "        \n",
        "   "
      ]
    },
    {
      "cell_type": "code",
      "execution_count": 6,
      "metadata": {
        "id": "sHE4Y_8CYKDT"
      },
      "outputs": [],
      "source": [
        "paths = {\n",
        "    'Images': os.path.join('Images'),\n",
        "    'Data': os.path.join('Data')\n",
        "    #'Training': os.path.join('Images','Training'),\n",
        "   # 'Validation': os.path.join('Images','Validation')\n",
        " }"
      ]
    },
    {
      "cell_type": "code",
      "execution_count": 7,
      "metadata": {
        "id": "Nwo9X8wFZRgu"
      },
      "outputs": [],
      "source": [
        "for path in paths.values():\n",
        "    if not os.path.exists(path):\n",
        "        if os.name == 'posix':\n",
        "            !mkdir -p {path}\n",
        "        if os.name == 'nt':\n",
        "            !mkdir {path}"
      ]
    },
    {
      "cell_type": "code",
      "source": [
        "!unzip '/content/Images/ALL.zip' -d '/content/Images'"
      ],
      "metadata": {
        "id": "zCujMPlzCuNY"
      },
      "execution_count": null,
      "outputs": []
    },
    {
      "cell_type": "code",
      "execution_count": null,
      "metadata": {
        "id": "LXcFeN0Ea3sT"
      },
      "outputs": [],
      "source": [
        "import os\n",
        "main()"
      ]
    },
    {
      "cell_type": "code",
      "execution_count": 10,
      "metadata": {
        "id": "X8nafbuYiJwH"
      },
      "outputs": [],
      "source": [
        "TRAINING_CSV_FILE = '/content/Data/Training_data.csv'\n",
        "TRAINING_IMAGE_DIR = '/content/Images/Training'\n",
        "\n",
        "Validation_CSV_FILE = '/content/Data/Validation_data.csv'\n",
        "Validation_IMAGE_DIR = '/content/Images/Validation'"
      ]
    },
    {
      "cell_type": "code",
      "execution_count": 11,
      "metadata": {
        "id": "_ZfiuLRagL0q"
      },
      "outputs": [],
      "source": [
        "training_image_records = pd.read_csv(TRAINING_CSV_FILE)\n",
        "\n",
        "train_image_path = os.path.join(os.getcwd(), TRAINING_IMAGE_DIR)\n"
      ]
    },
    {
      "cell_type": "code",
      "execution_count": 12,
      "metadata": {
        "id": "qTgP7MdMj3gs"
      },
      "outputs": [],
      "source": [
        "train_images = []\n",
        "train_targets = []\n",
        "train_labels = []"
      ]
    },
    {
      "cell_type": "code",
      "execution_count": 13,
      "metadata": {
        "id": "JxhJxCC9kwU0"
      },
      "outputs": [],
      "source": [
        "classes = [\"UpStair\", \"DownStair\"]\n",
        "width = 350\n",
        "height = 400\n",
        "num_classes = 2\n",
        "\n",
        "\n"
      ]
    },
    {
      "cell_type": "code",
      "execution_count": 14,
      "metadata": {
        "id": "CUEplCkUj4Dg"
      },
      "outputs": [],
      "source": [
        "for index, row in training_image_records.iterrows():\n",
        "    \n",
        "    (filename, width, height, class_name, cx, cy, w, h, cos, sin) = row\n",
        "    \n",
        "    train_image_fullpath = os.path.join(train_image_path, filename) + \".jpg\"\n",
        "    train_img = keras.preprocessing.image.load_img(train_image_fullpath, target_size=(height, width))\n",
        "    train_img_arr = keras.preprocessing.image.img_to_array(train_img)\n",
        "    \n",
        "    \n",
        "    cx = round(cx/ width, 2)\n",
        "    cy = round(cy/ height, 2)\n",
        "    w = round(w/ width, 2)\n",
        "    h = round(h/ height, 2)\n",
        "    \n",
        "    train_images.append(train_img_arr)\n",
        "    train_targets.append((cx, cy, w, h, cos, sin))\n",
        "    train_labels.append(classes.index(class_name))"
      ]
    },
    {
      "cell_type": "code",
      "execution_count": 15,
      "metadata": {
        "id": "fm3PLAk8n5mW"
      },
      "outputs": [],
      "source": [
        "Valid_images = []\n",
        "Valid_targets = []\n",
        "Valid_labels = []"
      ]
    },
    {
      "cell_type": "code",
      "execution_count": 16,
      "metadata": {
        "id": "Lu9cqHCV84nv"
      },
      "outputs": [],
      "source": [
        "Validation_image_records = pd.read_csv(Validation_CSV_FILE)\n",
        "\n",
        "Valid_image_path = os.path.join(os.getcwd(), Validation_IMAGE_DIR)"
      ]
    },
    {
      "cell_type": "code",
      "execution_count": 17,
      "metadata": {
        "id": "rmU0M9MyrFkW"
      },
      "outputs": [],
      "source": [
        "for index, row in Validation_image_records.iterrows():\n",
        "    \n",
        "    (filename, width, height, class_name, cx, cy, w, h, cos, sin) = row\n",
        "    \n",
        "    Valid_image_fullpath = os.path.join(Valid_image_path, filename) + \".jpg\"\n",
        "    Valid_img = keras.preprocessing.image.load_img(Valid_image_fullpath, target_size=(height, width))\n",
        "    Valid_img_arr = keras.preprocessing.image.img_to_array(Valid_img)\n",
        "    \n",
        "    \n",
        "    cx = round(cx/ width, 2)\n",
        "    cy = round(cy/ height, 2)\n",
        "    w = round(w/ width, 2)\n",
        "    h = round(h/ height, 2)\n",
        "    \n",
        "    Valid_images.append(Valid_img_arr)\n",
        "    Valid_targets.append((cx, cy, w, h, cos, sin))\n",
        "    Valid_labels.append(classes.index(class_name))"
      ]
    },
    {
      "cell_type": "code",
      "execution_count": 18,
      "metadata": {
        "id": "WHC9oC1FrHSm"
      },
      "outputs": [],
      "source": [
        "train_images = np.array(train_images)\n",
        "train_targets = np.array(train_targets)\n",
        "train_labels = np.array(train_labels)\n",
        "\n",
        "validation_images = np.array(Valid_images)\n",
        "validation_targets = np.array(Valid_targets)\n",
        "validation_labels = np.array(Valid_labels)"
      ]
    },
    {
      "cell_type": "code",
      "execution_count": 19,
      "metadata": {
        "id": "odcbl1Wp33mg"
      },
      "outputs": [],
      "source": [
        "import matplotlib.pyplot as plt\n",
        "import numpy as np\n",
        "import os\n",
        "import PIL\n",
        "import tensorflow as tf\n",
        "from tensorflow import keras\n",
        "from tensorflow.keras import layers\n",
        "from tensorflow.keras.models import Sequential\n",
        "import pathlib\n",
        "import pandas as pd\n",
        "from PIL import Image \n",
        "from PIL.ImageDraw import Draw"
      ]
    },
    {
      "cell_type": "code",
      "execution_count": 20,
      "metadata": {
        "id": "40QxJYH734Ny"
      },
      "outputs": [],
      "source": [
        "#create the common input layer\n",
        "input_shape = (height, width, 3)\n",
        "input_layer = tf.keras.layers.Input(input_shape)\n",
        "\n",
        "#create the base layers\n",
        "base_layers = layers.experimental.preprocessing.Rescaling(1./255, name='bl_1')(input_layer)\n",
        "base_layers = layers.Conv2D(16, 3, padding='same', activation='relu', name='bl_2')(base_layers)\n",
        "base_layers = layers.MaxPooling2D(name='bl_3')(base_layers)\n",
        "base_layers = layers.Conv2D(32, 3, padding='same', activation='relu', name='bl_4')(base_layers)\n",
        "base_layers = layers.MaxPooling2D(name='bl_5')(base_layers)\n",
        "base_layers = layers.Conv2D(64, 3, padding='same', activation='relu', name='bl_6')(base_layers)\n",
        "base_layers = layers.MaxPooling2D(name='bl_7')(base_layers)\n",
        "base_layers = layers.Flatten(name='bl_8')(base_layers)"
      ]
    },
    {
      "cell_type": "code",
      "execution_count": null,
      "metadata": {
        "colab": {
          "base_uri": "https://localhost:8080/"
        },
        "id": "eRhLS31KhWW5",
        "outputId": "0592b08b-04e9-4889-b081-35f60abb794d"
      },
      "outputs": [
        {
          "output_type": "execute_result",
          "data": {
            "text/plain": [
              "<KerasTensor: shape=(None, 400, 350, 3) dtype=float32 (created by layer 'input_1')>"
            ]
          },
          "metadata": {},
          "execution_count": 21
        }
      ],
      "source": [
        "input_layer"
      ]
    },
    {
      "cell_type": "code",
      "execution_count": 21,
      "metadata": {
        "id": "vxEcjmdW4pL5"
      },
      "outputs": [],
      "source": [
        "#create the classifier branch\n",
        "classifier_branch = layers.Dense(128, activation='relu', name='cl_1')(base_layers)\n",
        "classifier_branch = layers.Dense(num_classes, name='cl_head')(classifier_branch) "
      ]
    },
    {
      "cell_type": "code",
      "execution_count": 22,
      "metadata": {
        "id": "apQkgx_M4ps1"
      },
      "outputs": [],
      "source": [
        "#create the localiser branch\n",
        "locator_branch = layers.Dense(128, activation='relu', name='bb_1')(base_layers)\n",
        "locator_branch = layers.Dense(64, activation='relu', name='bb_2')(locator_branch)\n",
        "locator_branch = layers.Dense(32, activation='relu', name='bb_3')(locator_branch)\n",
        "locator_branch = layers.Dense(6, activation='sigmoid', name='bb_head')(locator_branch)"
      ]
    },
    {
      "cell_type": "code",
      "execution_count": null,
      "metadata": {
        "colab": {
          "base_uri": "https://localhost:8080/"
        },
        "id": "j2sEU0IVsA5P",
        "outputId": "ad8b5cf8-a943-4c15-c1c1-7329cb85984c"
      },
      "outputs": [
        {
          "output_type": "execute_result",
          "data": {
            "text/plain": [
              "<KerasTensor: shape=(None, 6) dtype=float32 (created by layer 'bb_head')>"
            ]
          },
          "metadata": {},
          "execution_count": 24
        }
      ],
      "source": [
        "locator_branch"
      ]
    },
    {
      "cell_type": "code",
      "execution_count": 23,
      "metadata": {
        "id": "2lflcnpJ4yh0"
      },
      "outputs": [],
      "source": [
        "model = tf.keras.Model(input_layer,\n",
        "           outputs=[classifier_branch,locator_branch])\n"
      ]
    },
    {
      "cell_type": "code",
      "execution_count": 24,
      "metadata": {
        "colab": {
          "base_uri": "https://localhost:8080/"
        },
        "id": "vgHQLuaVlJhF",
        "outputId": "333d29e2-ce23-41fb-cee6-bdb07aae0ed3"
      },
      "outputs": [
        {
          "output_type": "stream",
          "name": "stdout",
          "text": [
            "Model: \"model\"\n",
            "__________________________________________________________________________________________________\n",
            " Layer (type)                   Output Shape         Param #     Connected to                     \n",
            "==================================================================================================\n",
            " input_1 (InputLayer)           [(None, 400, 350, 3  0           []                               \n",
            "                                )]                                                                \n",
            "                                                                                                  \n",
            " bl_1 (Rescaling)               (None, 400, 350, 3)  0           ['input_1[0][0]']                \n",
            "                                                                                                  \n",
            " bl_2 (Conv2D)                  (None, 400, 350, 16  448         ['bl_1[0][0]']                   \n",
            "                                )                                                                 \n",
            "                                                                                                  \n",
            " bl_3 (MaxPooling2D)            (None, 200, 175, 16  0           ['bl_2[0][0]']                   \n",
            "                                )                                                                 \n",
            "                                                                                                  \n",
            " bl_4 (Conv2D)                  (None, 200, 175, 32  4640        ['bl_3[0][0]']                   \n",
            "                                )                                                                 \n",
            "                                                                                                  \n",
            " bl_5 (MaxPooling2D)            (None, 100, 87, 32)  0           ['bl_4[0][0]']                   \n",
            "                                                                                                  \n",
            " bl_6 (Conv2D)                  (None, 100, 87, 64)  18496       ['bl_5[0][0]']                   \n",
            "                                                                                                  \n",
            " bl_7 (MaxPooling2D)            (None, 50, 43, 64)   0           ['bl_6[0][0]']                   \n",
            "                                                                                                  \n",
            " bl_8 (Flatten)                 (None, 137600)       0           ['bl_7[0][0]']                   \n",
            "                                                                                                  \n",
            " bb_1 (Dense)                   (None, 128)          17612928    ['bl_8[0][0]']                   \n",
            "                                                                                                  \n",
            " bb_2 (Dense)                   (None, 64)           8256        ['bb_1[0][0]']                   \n",
            "                                                                                                  \n",
            " cl_1 (Dense)                   (None, 128)          17612928    ['bl_8[0][0]']                   \n",
            "                                                                                                  \n",
            " bb_3 (Dense)                   (None, 32)           2080        ['bb_2[0][0]']                   \n",
            "                                                                                                  \n",
            " cl_head (Dense)                (None, 2)            258         ['cl_1[0][0]']                   \n",
            "                                                                                                  \n",
            " bb_head (Dense)                (None, 6)            198         ['bb_3[0][0]']                   \n",
            "                                                                                                  \n",
            "==================================================================================================\n",
            "Total params: 35,260,232\n",
            "Trainable params: 35,260,232\n",
            "Non-trainable params: 0\n",
            "__________________________________________________________________________________________________\n"
          ]
        }
      ],
      "source": [
        "model.summary()"
      ]
    },
    {
      "cell_type": "code",
      "source": [
        "class Vector:\n",
        "    def __init__(self, x, y):\n",
        "        self.x = x\n",
        "        self.y = y\n",
        "\n",
        "    def __add__(self, v):\n",
        "        if not isinstance(v, Vector):\n",
        "            return NotImplemented\n",
        "        return Vector(self.x + v.x, self.y + v.y)\n",
        "\n",
        "    def __sub__(self, v):\n",
        "        if not isinstance(v, Vector):\n",
        "            return NotImplemented\n",
        "        return Vector(self.x - v.x, self.y - v.y)\n",
        "\n",
        "    def cross(self, v):\n",
        "        if not isinstance(v, Vector):\n",
        "            return NotImplemented\n",
        "        return self.x*v.y - self.y*v.x\n",
        "\n"
      ],
      "metadata": {
        "id": "kWtIqS_FJcW-"
      },
      "execution_count": 25,
      "outputs": []
    },
    {
      "cell_type": "code",
      "source": [
        "class Line:\n",
        "    # ax + by + c = 0\n",
        "    def __init__(self, v1, v2):\n",
        "        self.a = v2.y - v1.y\n",
        "        self.b = v1.x - v2.x\n",
        "        self.c = v2.cross(v1)\n",
        "\n",
        "    def __call__(self, p):\n",
        "        return self.a*p.x + self.b*p.y + self.c\n",
        "\n",
        "    def intersection(self, other):\n",
        "        # See e.g.     https://en.wikipedia.org/wiki/Line%E2%80%93line_intersection#Using_homogeneous_coordinates\n",
        "        if not isinstance(other, Line):\n",
        "            return NotImplemented\n",
        "        w = self.a*other.b - self.b*other.a\n",
        "        return Vector(\n",
        "            (self.b*other.c - self.c*other.b)/w,\n",
        "            (self.c*other.a - self.a*other.c)/w\n",
        "        )\n"
      ],
      "metadata": {
        "id": "lwfXL5sLm7-W"
      },
      "execution_count": 26,
      "outputs": []
    },
    {
      "cell_type": "code",
      "source": [
        "def rectangle_vertices(cx, cy, w, h, cos, sin):\n",
        "    #angle = pi*r/180\n",
        "    dx = w/2\n",
        "    dy = h/2\n",
        "    dxcos = dx * cos\n",
        "    dxsin = dx * sin\n",
        "    dycos = dy * cos\n",
        "    dysin = dy * sin\n",
        "    return (\n",
        "        Vector(cx, cy) + Vector(-dxcos - -dysin, -dxsin + -dycos),\n",
        "        Vector(cx, cy) + Vector( dxcos - -dysin,  dxsin + -dycos),\n",
        "        Vector(cx, cy) + Vector( dxcos -  dysin,  dxsin +  dycos),\n",
        "        Vector(cx, cy) + Vector(-dxcos -  dysin, -dxsin +  dycos)\n",
        "    )"
      ],
      "metadata": {
        "id": "Lyx7jpE5nAbP"
      },
      "execution_count": 27,
      "outputs": []
    },
    {
      "cell_type": "code",
      "source": [
        "def intersection_area(r1, r2):\n",
        "    # r1 and r2 are in (center, width, height, cos, sin) representation\n",
        "    # First convert these into a sequence of vertices\n",
        "\n",
        "    rect1 = rectangle_vertices(r1[0],r1[1],r1[2],r1[3],r1[4],r1[5])\n",
        "    rect2 = rectangle_vertices(r2[0],r2[1],r2[2],r2[3],r2[4],r2[5])\n",
        "    \n",
        "    P_rect1 = (float( r1[2]) * (r1[3]))\n",
        "    P_rect2 = (float( r2[2]) * (r2[3]))\n",
        "    \n",
        "    # Use the vertices of the first rectangle as\n",
        "    # starting vertices of the intersection polygon.\n",
        "    intersection = rect1\n",
        "\n",
        "    # Loop over the edges of the second rectangle\n",
        "    for p, q in zip(rect2, rect2[1:] + rect2[:1]):\n",
        "        if len(intersection) <= 2:\n",
        "            break # No intersection\n",
        "\n",
        "        line = Line(p, q)\n",
        "        \n",
        "        # Any point p with line(p) <= 0 is on the \"inside\" (or on the boundary),\n",
        "        # any point p with line(p) > 0 is on the \"outside\".\n",
        "\n",
        "        # Loop over the edges of the intersection polygon,\n",
        "        # and determine which part is inside and which is outside.\n",
        "        new_intersection = []\n",
        "        line_values = [line(t) for t in intersection]\n",
        "        for s, t, s_value, t_value in zip(\n",
        "            intersection, intersection[1:] + intersection[:1],\n",
        "            line_values, line_values[1:] + line_values[:1]):\n",
        "            t2 = print('*')\n",
        "            tf.cond(s_value  <= 0, lambda:new_intersection.append(s),false_fn=lambda:t2)\n",
        "            #if s_value  <= 0:\n",
        "             #   new_intersection.append(s)\n",
        "            tf.cond(s_value * t_value < 0, lambda: new_intersection.append(line.intersection(Line(s, t))),false_fn=lambda:t2)\n",
        "            \n",
        "            #if s_value * t_value < 0:\n",
        "                # Points are on opposite sides.\n",
        "                # Add the intersection of the lines to new_intersection.\n",
        "             #   intersection_point = line.intersection(Line(s, t))\n",
        "              #  new_intersection.append(intersection_point)\n",
        "\n",
        "        intersection = new_intersection\n",
        "\n",
        "    # Calculate area\n",
        "    if len(intersection) <= 2:\n",
        "        return 0\n",
        "    \n",
        "    inter=0.5 * sum(p.x*q.y - p.y*q.x for p, q in\n",
        "                     zip(intersection, intersection[1:] + intersection[:1]))\n",
        "    \n",
        "    iou = (inter / float(P_rect1 + P_rect2 - inter)) \n",
        "    \n",
        "    return iou"
      ],
      "metadata": {
        "id": "oO1gA3ERnJZc"
      },
      "execution_count": 83,
      "outputs": []
    },
    {
      "cell_type": "code",
      "source": [
        ""
      ],
      "metadata": {
        "id": "dxxtm77ynMcE"
      },
      "execution_count": 83,
      "outputs": []
    },
    {
      "cell_type": "code",
      "source": [
        ""
      ],
      "metadata": {
        "id": "sCEMFjKMnOun"
      },
      "execution_count": 83,
      "outputs": []
    },
    {
      "cell_type": "code",
      "execution_count": 84,
      "metadata": {
        "id": "c_TJpJIW433N"
      },
      "outputs": [],
      "source": [
        "#losses = {\"cl_head\":tf.keras.losses.SparseCategoricalCrossentropy(from_logits=True), \"bb_head\":tfa.losses.GIoULoss}\n",
        "losses = {\"cl_head\":tf.keras.losses.SparseCategoricalCrossentropy(from_logits=True), \"bb_head\":intersection_area}"
      ]
    },
    {
      "cell_type": "code",
      "execution_count": 85,
      "metadata": {
        "id": "gSIXAwkp4-8y"
      },
      "outputs": [],
      "source": [
        "model.compile(loss=losses, optimizer='Adam', metrics=['accuracy'])"
      ]
    },
    {
      "cell_type": "code",
      "execution_count": 86,
      "metadata": {
        "id": "qiVMOrgX5FVT"
      },
      "outputs": [],
      "source": [
        "trainTargets = {\n",
        "    \"cl_head\": train_labels,\n",
        "    \"bb_head\": train_targets\n",
        "}\n",
        "validationTargets = {\n",
        "    \"cl_head\": validation_labels,\n",
        "    \"bb_head\": validation_targets\n",
        "}"
      ]
    },
    {
      "cell_type": "code",
      "execution_count": 87,
      "metadata": {
        "colab": {
          "base_uri": "https://localhost:8080/",
          "height": 1000
        },
        "id": "yYqK-kgN5fy-",
        "outputId": "88ce5cee-b846-4f4f-bce2-38131f6b2bfd"
      },
      "outputs": [
        {
          "output_type": "stream",
          "name": "stdout",
          "text": [
            "Epoch 1/20\n",
            "*\n",
            "*\n",
            "*\n",
            "*\n"
          ]
        },
        {
          "output_type": "error",
          "ename": "InaccessibleTensorError",
          "evalue": "ignored",
          "traceback": [
            "\u001b[0;31m---------------------------------------------------------------------------\u001b[0m",
            "\u001b[0;31mInaccessibleTensorError\u001b[0m                   Traceback (most recent call last)",
            "\u001b[0;32m<ipython-input-87-cbfd491e4e43>\u001b[0m in \u001b[0;36m<module>\u001b[0;34m()\u001b[0m\n\u001b[1;32m      4\u001b[0m              \u001b[0mepochs\u001b[0m\u001b[0;34m=\u001b[0m\u001b[0;36m20\u001b[0m\u001b[0;34m,\u001b[0m\u001b[0;34m\u001b[0m\u001b[0;34m\u001b[0m\u001b[0m\n\u001b[1;32m      5\u001b[0m              \u001b[0mshuffle\u001b[0m\u001b[0;34m=\u001b[0m\u001b[0;32mTrue\u001b[0m\u001b[0;34m,\u001b[0m\u001b[0;34m\u001b[0m\u001b[0;34m\u001b[0m\u001b[0m\n\u001b[0;32m----> 6\u001b[0;31m              verbose=1)\n\u001b[0m",
            "\u001b[0;32m/usr/local/lib/python3.7/dist-packages/keras/utils/traceback_utils.py\u001b[0m in \u001b[0;36merror_handler\u001b[0;34m(*args, **kwargs)\u001b[0m\n\u001b[1;32m     65\u001b[0m     \u001b[0;32mexcept\u001b[0m \u001b[0mException\u001b[0m \u001b[0;32mas\u001b[0m \u001b[0me\u001b[0m\u001b[0;34m:\u001b[0m  \u001b[0;31m# pylint: disable=broad-except\u001b[0m\u001b[0;34m\u001b[0m\u001b[0;34m\u001b[0m\u001b[0m\n\u001b[1;32m     66\u001b[0m       \u001b[0mfiltered_tb\u001b[0m \u001b[0;34m=\u001b[0m \u001b[0m_process_traceback_frames\u001b[0m\u001b[0;34m(\u001b[0m\u001b[0me\u001b[0m\u001b[0;34m.\u001b[0m\u001b[0m__traceback__\u001b[0m\u001b[0;34m)\u001b[0m\u001b[0;34m\u001b[0m\u001b[0;34m\u001b[0m\u001b[0m\n\u001b[0;32m---> 67\u001b[0;31m       \u001b[0;32mraise\u001b[0m \u001b[0me\u001b[0m\u001b[0;34m.\u001b[0m\u001b[0mwith_traceback\u001b[0m\u001b[0;34m(\u001b[0m\u001b[0mfiltered_tb\u001b[0m\u001b[0;34m)\u001b[0m \u001b[0;32mfrom\u001b[0m \u001b[0;32mNone\u001b[0m\u001b[0;34m\u001b[0m\u001b[0;34m\u001b[0m\u001b[0m\n\u001b[0m\u001b[1;32m     68\u001b[0m     \u001b[0;32mfinally\u001b[0m\u001b[0;34m:\u001b[0m\u001b[0;34m\u001b[0m\u001b[0;34m\u001b[0m\u001b[0m\n\u001b[1;32m     69\u001b[0m       \u001b[0;32mdel\u001b[0m \u001b[0mfiltered_tb\u001b[0m\u001b[0;34m\u001b[0m\u001b[0;34m\u001b[0m\u001b[0m\n",
            "\u001b[0;32m/usr/local/lib/python3.7/dist-packages/tensorflow/python/framework/func_graph.py\u001b[0m in \u001b[0;36mautograph_handler\u001b[0;34m(*args, **kwargs)\u001b[0m\n\u001b[1;32m   1145\u001b[0m           \u001b[0;32mexcept\u001b[0m \u001b[0mException\u001b[0m \u001b[0;32mas\u001b[0m \u001b[0me\u001b[0m\u001b[0;34m:\u001b[0m  \u001b[0;31m# pylint:disable=broad-except\u001b[0m\u001b[0;34m\u001b[0m\u001b[0;34m\u001b[0m\u001b[0m\n\u001b[1;32m   1146\u001b[0m             \u001b[0;32mif\u001b[0m \u001b[0mhasattr\u001b[0m\u001b[0;34m(\u001b[0m\u001b[0me\u001b[0m\u001b[0;34m,\u001b[0m \u001b[0;34m\"ag_error_metadata\"\u001b[0m\u001b[0;34m)\u001b[0m\u001b[0;34m:\u001b[0m\u001b[0;34m\u001b[0m\u001b[0;34m\u001b[0m\u001b[0m\n\u001b[0;32m-> 1147\u001b[0;31m               \u001b[0;32mraise\u001b[0m \u001b[0me\u001b[0m\u001b[0;34m.\u001b[0m\u001b[0mag_error_metadata\u001b[0m\u001b[0;34m.\u001b[0m\u001b[0mto_exception\u001b[0m\u001b[0;34m(\u001b[0m\u001b[0me\u001b[0m\u001b[0;34m)\u001b[0m\u001b[0;34m\u001b[0m\u001b[0;34m\u001b[0m\u001b[0m\n\u001b[0m\u001b[1;32m   1148\u001b[0m             \u001b[0;32melse\u001b[0m\u001b[0;34m:\u001b[0m\u001b[0;34m\u001b[0m\u001b[0;34m\u001b[0m\u001b[0m\n\u001b[1;32m   1149\u001b[0m               \u001b[0;32mraise\u001b[0m\u001b[0;34m\u001b[0m\u001b[0;34m\u001b[0m\u001b[0m\n",
            "\u001b[0;31mInaccessibleTensorError\u001b[0m: in user code:\n\n    File \"/usr/local/lib/python3.7/dist-packages/keras/engine/training.py\", line 1021, in train_function  *\n        return step_function(self, iterator)\n    File \"<ipython-input-83-890d78d77670>\", line 28, in intersection_area  *\n        line_values = [line(t) for t in intersection]\n    File \"<ipython-input-26-427cf45dffcf>\", line 9, in __call__  *\n        return self.a*p.x + self.b*p.y + self.c\n\n    InaccessibleTensorError: <tf.Tensor 'intersection_area/cond_1/truediv:0' shape=(6,) dtype=float32> is out of scope and cannot be used here. Use return values, explicit Python locals or TensorFlow collections to access it.\n    Please see https://www.tensorflow.org/guide/function#all_outputs_of_a_tffunction_must_be_return_values for more information.\n    \n    <tf.Tensor 'intersection_area/cond_1/truediv:0' shape=(6,) dtype=float32> was defined here:\n        File \"/usr/lib/python3.7/runpy.py\", line 193, in _run_module_as_main\n          \"__main__\", mod_spec)\n        File \"/usr/lib/python3.7/runpy.py\", line 85, in _run_code\n          exec(code, run_globals)\n        File \"/usr/local/lib/python3.7/dist-packages/ipykernel_launcher.py\", line 16, in <module>\n          app.launch_new_instance()\n        File \"/usr/local/lib/python3.7/dist-packages/traitlets/config/application.py\", line 846, in launch_instance\n          app.start()\n        File \"/usr/local/lib/python3.7/dist-packages/ipykernel/kernelapp.py\", line 499, in start\n          self.io_loop.start()\n        File \"/usr/local/lib/python3.7/dist-packages/tornado/platform/asyncio.py\", line 132, in start\n          self.asyncio_loop.run_forever()\n        File \"/usr/lib/python3.7/asyncio/base_events.py\", line 541, in run_forever\n          self._run_once()\n        File \"/usr/lib/python3.7/asyncio/base_events.py\", line 1786, in _run_once\n          handle._run()\n        File \"/usr/lib/python3.7/asyncio/events.py\", line 88, in _run\n          self._context.run(self._callback, *self._args)\n        File \"/usr/local/lib/python3.7/dist-packages/tornado/ioloop.py\", line 758, in _run_callback\n          ret = callback()\n        File \"/usr/local/lib/python3.7/dist-packages/tornado/stack_context.py\", line 300, in null_wrapper\n          return fn(*args, **kwargs)\n        File \"/usr/local/lib/python3.7/dist-packages/zmq/eventloop/zmqstream.py\", line 661, in <lambda>\n          self.io_loop.add_callback(lambda: self._handle_events(self.socket, 0))\n        File \"/usr/local/lib/python3.7/dist-packages/zmq/eventloop/zmqstream.py\", line 577, in _handle_events\n          self._handle_recv()\n        File \"/usr/local/lib/python3.7/dist-packages/zmq/eventloop/zmqstream.py\", line 606, in _handle_recv\n          self._run_callback(callback, msg)\n        File \"/usr/local/lib/python3.7/dist-packages/zmq/eventloop/zmqstream.py\", line 556, in _run_callback\n          callback(*args, **kwargs)\n        File \"/usr/local/lib/python3.7/dist-packages/tornado/stack_context.py\", line 300, in null_wrapper\n          return fn(*args, **kwargs)\n        File \"/usr/local/lib/python3.7/dist-packages/ipykernel/kernelbase.py\", line 283, in dispatcher\n          return self.dispatch_shell(stream, msg)\n        File \"/usr/local/lib/python3.7/dist-packages/ipykernel/kernelbase.py\", line 233, in dispatch_shell\n          handler(stream, idents, msg)\n        File \"/usr/local/lib/python3.7/dist-packages/ipykernel/kernelbase.py\", line 399, in execute_request\n          user_expressions, allow_stdin)\n        File \"/usr/local/lib/python3.7/dist-packages/ipykernel/ipkernel.py\", line 208, in do_execute\n          res = shell.run_cell(code, store_history=store_history, silent=silent)\n        File \"/usr/local/lib/python3.7/dist-packages/ipykernel/zmqshell.py\", line 537, in run_cell\n          return super(ZMQInteractiveShell, self).run_cell(*args, **kwargs)\n        File \"/usr/local/lib/python3.7/dist-packages/IPython/core/interactiveshell.py\", line 2718, in run_cell\n          interactivity=interactivity, compiler=compiler, result=result)\n        File \"/usr/local/lib/python3.7/dist-packages/IPython/core/interactiveshell.py\", line 2822, in run_ast_nodes\n          if self.run_code(code, result):\n        File \"/usr/local/lib/python3.7/dist-packages/IPython/core/interactiveshell.py\", line 2882, in run_code\n          exec(code_obj, self.user_global_ns, self.user_ns)\n        File \"<ipython-input-87-cbfd491e4e43>\", line 6, in <module>\n          verbose=1)\n        File \"/usr/local/lib/python3.7/dist-packages/keras/utils/traceback_utils.py\", line 64, in error_handler\n          return fn(*args, **kwargs)\n        File \"/usr/local/lib/python3.7/dist-packages/keras/engine/training.py\", line 1384, in fit\n          tmp_logs = self.train_function(iterator)\n        File \"/usr/local/lib/python3.7/dist-packages/keras/engine/training.py\", line 1021, in train_function\n          return step_function(self, iterator)\n        File \"/usr/local/lib/python3.7/dist-packages/keras/engine/training.py\", line 1010, in step_function\n          outputs = model.distribute_strategy.run(run_step, args=(data,))\n        File \"/usr/local/lib/python3.7/dist-packages/keras/engine/training.py\", line 1000, in run_step\n          outputs = model.train_step(data)\n        File \"/usr/local/lib/python3.7/dist-packages/keras/engine/training.py\", line 860, in train_step\n          loss = self.compute_loss(x, y, y_pred, sample_weight)\n        File \"/usr/local/lib/python3.7/dist-packages/keras/engine/training.py\", line 919, in compute_loss\n          y, y_pred, sample_weight, regularization_losses=self.losses)\n        File \"/usr/local/lib/python3.7/dist-packages/keras/engine/compile_utils.py\", line 201, in __call__\n          loss_value = loss_obj(y_t, y_p, sample_weight=sw)\n        File \"/usr/local/lib/python3.7/dist-packages/keras/losses.py\", line 141, in __call__\n          losses = call_fn(y_true, y_pred)\n        File \"/usr/local/lib/python3.7/dist-packages/keras/losses.py\", line 245, in call\n          return ag_fn(y_true, y_pred, **self._fn_kwargs)\n        File \"<ipython-input-83-890d78d77670>\", line 16, in intersection_area\n          for p, q in zip(rect2, rect2[1:] + rect2[:1]):\n        File \"<ipython-input-83-890d78d77670>\", line 16, in intersection_area\n          for p, q in zip(rect2, rect2[1:] + rect2[:1]):\n        File \"<ipython-input-83-890d78d77670>\", line 29, in intersection_area\n          for s, t, s_value, t_value in zip(\n        File \"<ipython-input-83-890d78d77670>\", line 36, in intersection_area\n          tf.cond(s_value * t_value < 0, lambda: new_intersection.append(line.intersection(Line(s, t))),false_fn=lambda:t2)\n        File \"<ipython-input-83-890d78d77670>\", line 36, in intersection_area\n          tf.cond(s_value * t_value < 0, lambda: new_intersection.append(line.intersection(Line(s, t))),false_fn=lambda:t2)\n        File \"<ipython-input-26-427cf45dffcf>\", line 13, in intersection\n          if not isinstance(other, Line):\n        File \"<ipython-input-26-427cf45dffcf>\", line 18, in intersection\n          (self.c*other.a - self.a*other.c)/w\n    \n    The tensor <tf.Tensor 'intersection_area/cond_1/truediv:0' shape=(6,) dtype=float32> cannot be accessed from FuncGraph(name=train_function, id=140695768308048), because it was defined in FuncGraph(name=intersection_area_cond_1_true_15934, id=140695766580496), which is out of scope.\n"
          ]
        }
      ],
      "source": [
        "history = model.fit(train_images, trainTargets,\n",
        "             validation_data=(validation_images, validationTargets),\n",
        "             batch_size=3,\n",
        "             epochs=20,\n",
        "             shuffle=True,\n",
        "             verbose=1)\n"
      ]
    },
    {
      "cell_type": "code",
      "execution_count": null,
      "metadata": {
        "id": "7P1MwnVhxjmB"
      },
      "outputs": [],
      "source": [
        "a=model.predict(validation_images)"
      ]
    },
    {
      "cell_type": "code",
      "execution_count": null,
      "metadata": {
        "id": "hD6xhKGCyaGR"
      },
      "outputs": [],
      "source": [
        "a[1][1]\n",
        " "
      ]
    },
    {
      "cell_type": "code",
      "execution_count": null,
      "metadata": {
        "id": "VNZj2qPbyccy"
      },
      "outputs": [],
      "source": [
        "b=validationTargets['bb_head']\n",
        "b[1]"
      ]
    },
    {
      "cell_type": "code",
      "execution_count": null,
      "metadata": {
        "id": "J1Se-8D-5iRt"
      },
      "outputs": [],
      "source": [
        "import numpy as np\n",
        "from PIL import Image, ImageDraw\n",
        "import math\n",
        "import numpy.matlib as npm"
      ]
    },
    {
      "cell_type": "code",
      "source": [
        "def convert5Pointto8Point(cx_, cy_, w_, h_, cos_, sin_):\n",
        "\n",
        "    #theta = math.radians(a_)\n",
        "    bbox = npm.repmat([[cx_], [cy_]], 1, 5) + \\\n",
        "       np.matmul([[cos_, sin_],\n",
        "                  [-sin_, cos_]],\n",
        "                 [[-w_ / 2, w_/ 2, w_ / 2, -w_ / 2, w_ / 2 + 8],\n",
        "                  [-h_ / 2, -h_ / 2, h_ / 2, h_ / 2, 0]])\n",
        "    # add first point\n",
        "    x1, y1 = bbox[0][0], bbox[1][0]\n",
        "    # add second point\n",
        "    x2, y2 = bbox[0][1], bbox[1][1]\n",
        "    # add third point\n",
        "    #x3, y3 = bbox[0][4], bbox[1][4]   \n",
        "    # add forth point\n",
        "    x3, y3 = bbox[0][2], bbox[1][2]\n",
        "    # add fifth point\n",
        "    x4, y4 = bbox[0][3], bbox[1][3]\n",
        "\n",
        "    return [x1, y1, x2, y2, x3, y3, x4, y4]"
      ],
      "metadata": {
        "id": "oeO4uQfxFqPW"
      },
      "execution_count": null,
      "outputs": []
    },
    {
      "cell_type": "code",
      "source": [
        "IMAGE_PATH = os.path.join(paths['Images'], 'Validation', '/content/Images/Validation/2022_02_26_16_19_36.jpg')"
      ],
      "metadata": {
        "id": "SVBWGahigwo2"
      },
      "execution_count": null,
      "outputs": []
    },
    {
      "cell_type": "code",
      "source": [
        "i=3\n",
        "\n",
        "Ground_truth=b[i]\n",
        "\n",
        "Predict=a[1][i]\n",
        "\n",
        "\n"
      ],
      "metadata": {
        "id": "SOcSUo04eK7P"
      },
      "execution_count": null,
      "outputs": []
    },
    {
      "cell_type": "code",
      "source": [
        "img = Image.open(IMAGE_PATH)\n",
        "#img = Image.new('L', (width, height), 0)\n",
        "polygon = convert5Pointto8Point(np.ceil(Ground_truth[0]*350), np.ceil(Ground_truth[1]*400), np.ceil(Ground_truth[2]*350), np.ceil(Ground_truth[3]*400), -Ground_truth[4], Ground_truth[5]) \n",
        "ImageDraw.Draw(img).polygon(polygon, outline='blue')   \n",
        "polygon = convert5Pointto8Point(np.ceil(Predict[0]*350), np.ceil(Predict[1]*400), np.ceil(Predict[2]*350), np.ceil(Predict[3]*400), -Predict[4], Predict[5]) \n",
        "ImageDraw.Draw(img).polygon(polygon, outline='red')        \n",
        "plt.imshow(img)\n",
        "plt.show()"
      ],
      "metadata": {
        "id": "xGuhMspLjF3-"
      },
      "execution_count": null,
      "outputs": []
    },
    {
      "cell_type": "code",
      "source": [
        ""
      ],
      "metadata": {
        "id": "vgg90ESxqwjs"
      },
      "execution_count": null,
      "outputs": []
    }
  ],
  "metadata": {
    "colab": {
      "collapsed_sections": [],
      "name": "Rotated-Bounding-box-Regression.ipynb",
      "provenance": [],
      "authorship_tag": "ABX9TyNbdqEvmZqAZ8jsCge98MoB",
      "include_colab_link": true
    },
    "kernelspec": {
      "display_name": "Python 3",
      "name": "python3"
    },
    "language_info": {
      "name": "python"
    },
    "accelerator": "GPU",
    "gpuClass": "standard"
  },
  "nbformat": 4,
  "nbformat_minor": 0
}